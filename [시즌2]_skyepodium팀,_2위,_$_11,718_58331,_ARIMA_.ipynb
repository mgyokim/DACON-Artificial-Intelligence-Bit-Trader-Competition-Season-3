{
  "nbformat": 4,
  "nbformat_minor": 0,
  "metadata": {
    "colab": {
      "name": "[시즌2]_skyepodium팀, 2위, $ 11,718.58331, ARIMA .ipynb",
      "provenance": [],
      "collapsed_sections": []
    },
    "kernelspec": {
      "name": "python3",
      "display_name": "Python 3"
    },
    "language_info": {
      "name": "python"
    },
    "widgets": {
      "application/vnd.jupyter.widget-state+json": {
        "1a10397c83884f3a93327a0999d3971b": {
          "model_module": "@jupyter-widgets/controls",
          "model_name": "HBoxModel",
          "state": {
            "_view_name": "HBoxView",
            "_dom_classes": [],
            "_model_name": "HBoxModel",
            "_view_module": "@jupyter-widgets/controls",
            "_model_module_version": "1.5.0",
            "_view_count": null,
            "_view_module_version": "1.5.0",
            "box_style": "",
            "layout": "IPY_MODEL_bd62633546a04b6db8294912db23786d",
            "_model_module": "@jupyter-widgets/controls",
            "children": [
              "IPY_MODEL_1828a933b5054cbfa02e92f0e5db4a40",
              "IPY_MODEL_64c0dfca1e3848ed8524d086007babac"
            ]
          }
        },
        "bd62633546a04b6db8294912db23786d": {
          "model_module": "@jupyter-widgets/base",
          "model_name": "LayoutModel",
          "state": {
            "_view_name": "LayoutView",
            "grid_template_rows": null,
            "right": null,
            "justify_content": null,
            "_view_module": "@jupyter-widgets/base",
            "overflow": null,
            "_model_module_version": "1.2.0",
            "_view_count": null,
            "flex_flow": null,
            "width": null,
            "min_width": null,
            "border": null,
            "align_items": null,
            "bottom": null,
            "_model_module": "@jupyter-widgets/base",
            "top": null,
            "grid_column": null,
            "overflow_y": null,
            "overflow_x": null,
            "grid_auto_flow": null,
            "grid_area": null,
            "grid_template_columns": null,
            "flex": null,
            "_model_name": "LayoutModel",
            "justify_items": null,
            "grid_row": null,
            "max_height": null,
            "align_content": null,
            "visibility": null,
            "align_self": null,
            "height": null,
            "min_height": null,
            "padding": null,
            "grid_auto_rows": null,
            "grid_gap": null,
            "max_width": null,
            "order": null,
            "_view_module_version": "1.2.0",
            "grid_template_areas": null,
            "object_position": null,
            "object_fit": null,
            "grid_auto_columns": null,
            "margin": null,
            "display": null,
            "left": null
          }
        },
        "1828a933b5054cbfa02e92f0e5db4a40": {
          "model_module": "@jupyter-widgets/controls",
          "model_name": "FloatProgressModel",
          "state": {
            "_view_name": "ProgressView",
            "style": "IPY_MODEL_ae52095dd83b414f94653025388b51aa",
            "_dom_classes": [],
            "description": "100%",
            "_model_name": "FloatProgressModel",
            "bar_style": "success",
            "max": 535,
            "_view_module": "@jupyter-widgets/controls",
            "_model_module_version": "1.5.0",
            "value": 535,
            "_view_count": null,
            "_view_module_version": "1.5.0",
            "orientation": "horizontal",
            "min": 0,
            "description_tooltip": null,
            "_model_module": "@jupyter-widgets/controls",
            "layout": "IPY_MODEL_f96d5e2b03d242b4a3041fde4f661cfb"
          }
        },
        "64c0dfca1e3848ed8524d086007babac": {
          "model_module": "@jupyter-widgets/controls",
          "model_name": "HTMLModel",
          "state": {
            "_view_name": "HTMLView",
            "style": "IPY_MODEL_919d5e88ac0c43d7bf7a7e79e3995efc",
            "_dom_classes": [],
            "description": "",
            "_model_name": "HTMLModel",
            "placeholder": "​",
            "_view_module": "@jupyter-widgets/controls",
            "_model_module_version": "1.5.0",
            "value": " 535/535 [05:11&lt;00:00,  1.72it/s]",
            "_view_count": null,
            "_view_module_version": "1.5.0",
            "description_tooltip": null,
            "_model_module": "@jupyter-widgets/controls",
            "layout": "IPY_MODEL_70b84e0a5f50429bb6911360b1dbcd8f"
          }
        },
        "ae52095dd83b414f94653025388b51aa": {
          "model_module": "@jupyter-widgets/controls",
          "model_name": "ProgressStyleModel",
          "state": {
            "_view_name": "StyleView",
            "_model_name": "ProgressStyleModel",
            "description_width": "initial",
            "_view_module": "@jupyter-widgets/base",
            "_model_module_version": "1.5.0",
            "_view_count": null,
            "_view_module_version": "1.2.0",
            "bar_color": null,
            "_model_module": "@jupyter-widgets/controls"
          }
        },
        "f96d5e2b03d242b4a3041fde4f661cfb": {
          "model_module": "@jupyter-widgets/base",
          "model_name": "LayoutModel",
          "state": {
            "_view_name": "LayoutView",
            "grid_template_rows": null,
            "right": null,
            "justify_content": null,
            "_view_module": "@jupyter-widgets/base",
            "overflow": null,
            "_model_module_version": "1.2.0",
            "_view_count": null,
            "flex_flow": null,
            "width": null,
            "min_width": null,
            "border": null,
            "align_items": null,
            "bottom": null,
            "_model_module": "@jupyter-widgets/base",
            "top": null,
            "grid_column": null,
            "overflow_y": null,
            "overflow_x": null,
            "grid_auto_flow": null,
            "grid_area": null,
            "grid_template_columns": null,
            "flex": null,
            "_model_name": "LayoutModel",
            "justify_items": null,
            "grid_row": null,
            "max_height": null,
            "align_content": null,
            "visibility": null,
            "align_self": null,
            "height": null,
            "min_height": null,
            "padding": null,
            "grid_auto_rows": null,
            "grid_gap": null,
            "max_width": null,
            "order": null,
            "_view_module_version": "1.2.0",
            "grid_template_areas": null,
            "object_position": null,
            "object_fit": null,
            "grid_auto_columns": null,
            "margin": null,
            "display": null,
            "left": null
          }
        },
        "919d5e88ac0c43d7bf7a7e79e3995efc": {
          "model_module": "@jupyter-widgets/controls",
          "model_name": "DescriptionStyleModel",
          "state": {
            "_view_name": "StyleView",
            "_model_name": "DescriptionStyleModel",
            "description_width": "",
            "_view_module": "@jupyter-widgets/base",
            "_model_module_version": "1.5.0",
            "_view_count": null,
            "_view_module_version": "1.2.0",
            "_model_module": "@jupyter-widgets/controls"
          }
        },
        "70b84e0a5f50429bb6911360b1dbcd8f": {
          "model_module": "@jupyter-widgets/base",
          "model_name": "LayoutModel",
          "state": {
            "_view_name": "LayoutView",
            "grid_template_rows": null,
            "right": null,
            "justify_content": null,
            "_view_module": "@jupyter-widgets/base",
            "overflow": null,
            "_model_module_version": "1.2.0",
            "_view_count": null,
            "flex_flow": null,
            "width": null,
            "min_width": null,
            "border": null,
            "align_items": null,
            "bottom": null,
            "_model_module": "@jupyter-widgets/base",
            "top": null,
            "grid_column": null,
            "overflow_y": null,
            "overflow_x": null,
            "grid_auto_flow": null,
            "grid_area": null,
            "grid_template_columns": null,
            "flex": null,
            "_model_name": "LayoutModel",
            "justify_items": null,
            "grid_row": null,
            "max_height": null,
            "align_content": null,
            "visibility": null,
            "align_self": null,
            "height": null,
            "min_height": null,
            "padding": null,
            "grid_auto_rows": null,
            "grid_gap": null,
            "max_width": null,
            "order": null,
            "_view_module_version": "1.2.0",
            "grid_template_areas": null,
            "object_position": null,
            "object_fit": null,
            "grid_auto_columns": null,
            "margin": null,
            "display": null,
            "left": null
          }
        }
      }
    }
  },
  "cells": [
    {
      "cell_type": "markdown",
      "metadata": {
        "id": "01aoTSrVK4XG"
      },
      "source": [
        "![](https://raw.githubusercontent.com/skyepodium/bit-traider-image/master/image/bittraider_wallpaper.png)"
      ]
    },
    {
      "cell_type": "code",
      "metadata": {
        "id": "UdWphqD8QHUj"
      },
      "source": [
        ""
      ],
      "execution_count": null,
      "outputs": []
    },
    {
      "cell_type": "code",
      "metadata": {
        "id": "nA4H5HdcQHMt"
      },
      "source": [
        ""
      ],
      "execution_count": null,
      "outputs": []
    },
    {
      "cell_type": "markdown",
      "metadata": {
        "id": "bOTWHdfgCVPW"
      },
      "source": [
        "# 0. 개요 😀\n",
        "\n",
        "모델은 기본적으로 ARIMA 에 피쳐 엔지니어링을 통해 생성한 값 diff (open - VWAP)를 학습 데이터로 사용했습니다.\n",
        "\n",
        "\n",
        "- VWAP 및 피처 엔지니어링을 통해 생성한 값 diff 에 대해서는 아래 코드를 통해 설명드리겠습니다.\n",
        "\n",
        "\n",
        "\n",
        "<br>\n",
        "\n",
        "이번 시즌2 대회에서 집중했던 부분은 **안전**이었습니다. 🚧\n",
        "\n",
        "<br>\n",
        "\n",
        "이유는 크게 2가지입니다.\n",
        "\n",
        "첫 번째로, 시즌1 대회에서 리더보드가 엄청 큰 범위로 변동되는 것을 겪었었습니다. 🤦🏻\n",
        "\n",
        "<br>\n",
        "\n",
        "두 번째로, 아무리 수익을 많이 거두어도 나중에 잘못된 타이밍에 매도를 하게 되면, 복리에 하락이 겹쳐 큰 손해를 입을 수 있다는 점입니다.\n",
        "\n",
        "<br>\n",
        "\n",
        "그렇기 때문에 트레이딩에 사용되는 여러 보조지표들 (VWAP, RSI)을 통해 하락이 예상되는 지점은 피하는 전략을 선택했습니다.\n"
      ]
    },
    {
      "cell_type": "code",
      "metadata": {
        "id": "4AO3lWSxCV_f"
      },
      "source": [
        ""
      ],
      "execution_count": null,
      "outputs": []
    },
    {
      "cell_type": "code",
      "metadata": {
        "id": "pKMd6wlTCV4c"
      },
      "source": [
        ""
      ],
      "execution_count": null,
      "outputs": []
    },
    {
      "cell_type": "markdown",
      "metadata": {
        "id": "mpMjbt9ECu1q"
      },
      "source": [
        "# 1. 개발 환경 🖥\n",
        "개발 환경은 구글 colab을 사용했습니다. \n",
        "\n",
        "처음에는 낯설었지만, 다음과 같은 장점이 있었습니다.\n",
        "\n",
        "<br>\n",
        "\n",
        "1) 소음\n",
        "\n",
        "맥을 사용한다면, 소음이 많이 생기는 경우가 있는데, colab을 사용하면 소음 없는 쾌적한 환경에서 개발이 가능합니다.\n",
        "\n",
        "<br>\n",
        "\n",
        "2) 웹 접근성\n",
        "\n",
        "브라우저만 있으면 어디서든 개발할 수 있는 부분이 정말 좋았습니다."
      ]
    },
    {
      "cell_type": "code",
      "metadata": {
        "id": "ljPCByBkCvKZ"
      },
      "source": [
        ""
      ],
      "execution_count": null,
      "outputs": []
    },
    {
      "cell_type": "code",
      "metadata": {
        "id": "e-yAMgPlCvps"
      },
      "source": [
        ""
      ],
      "execution_count": null,
      "outputs": []
    },
    {
      "cell_type": "markdown",
      "metadata": {
        "id": "Cv-QxwbK-KRU"
      },
      "source": [
        "# 2. 패키지 설치 및 임포트 🛠"
      ]
    },
    {
      "cell_type": "code",
      "metadata": {
        "colab": {
          "base_uri": "https://localhost:8080/"
        },
        "id": "ECx23Lhgf1U9",
        "outputId": "5b8aec7d-9268-4f50-b1b0-e2f2398a56df"
      },
      "source": [
        "# ARIMA 모델을 사용하기 위해 statsmodels 제일 최신 버전을 설치합니다.\n",
        "!pip install statsmodels==0.12.2\n"
      ],
      "execution_count": null,
      "outputs": [
        {
          "output_type": "stream",
          "text": [
            "Collecting statsmodels==0.12.2\n",
            "\u001b[?25l  Downloading https://files.pythonhosted.org/packages/da/69/8eef30a6237c54f3c0b524140e2975f4b1eea3489b45eb3339574fc8acee/statsmodels-0.12.2-cp37-cp37m-manylinux1_x86_64.whl (9.5MB)\n",
            "\u001b[K     |████████████████████████████████| 9.5MB 3.8MB/s \n",
            "\u001b[?25hRequirement already satisfied: patsy>=0.5 in /usr/local/lib/python3.7/dist-packages (from statsmodels==0.12.2) (0.5.1)\n",
            "Requirement already satisfied: pandas>=0.21 in /usr/local/lib/python3.7/dist-packages (from statsmodels==0.12.2) (1.1.5)\n",
            "Requirement already satisfied: scipy>=1.1 in /usr/local/lib/python3.7/dist-packages (from statsmodels==0.12.2) (1.4.1)\n",
            "Requirement already satisfied: numpy>=1.15 in /usr/local/lib/python3.7/dist-packages (from statsmodels==0.12.2) (1.19.5)\n",
            "Requirement already satisfied: six in /usr/local/lib/python3.7/dist-packages (from patsy>=0.5->statsmodels==0.12.2) (1.15.0)\n",
            "Requirement already satisfied: pytz>=2017.2 in /usr/local/lib/python3.7/dist-packages (from pandas>=0.21->statsmodels==0.12.2) (2018.9)\n",
            "Requirement already satisfied: python-dateutil>=2.7.3 in /usr/local/lib/python3.7/dist-packages (from pandas>=0.21->statsmodels==0.12.2) (2.8.1)\n",
            "Installing collected packages: statsmodels\n",
            "  Found existing installation: statsmodels 0.10.2\n",
            "    Uninstalling statsmodels-0.10.2:\n",
            "      Successfully uninstalled statsmodels-0.10.2\n",
            "Successfully installed statsmodels-0.12.2\n"
          ],
          "name": "stdout"
        }
      ]
    },
    {
      "cell_type": "code",
      "metadata": {
        "id": "tMZ7ZNyFgPE3"
      },
      "source": [
        ""
      ],
      "execution_count": null,
      "outputs": []
    },
    {
      "cell_type": "code",
      "metadata": {
        "id": "F6OpxMdifm0v"
      },
      "source": [
        "# 1. 기본\n",
        "# 데이터를 다루기 위한 pandas와 numpy를 import 해주었습니다.\n",
        "import pandas as pd\n",
        "import numpy as np\n",
        "\n",
        "\n",
        "# 2. 시각화\n",
        "import matplotlib.pyplot as plt\n",
        "%matplotlib inline\n",
        "import seaborn as sns\n",
        "\n",
        "\n",
        "# 3. 유틸\n",
        "# tqdm 패키지는 반복문에 대해 얼마나 진척되었는지를 가시적으로 확인할 수 있도록 도와줍니다.\n",
        "# https://github.com/tqdm/tqdm 사용법은 정말 간단합니다.\n",
        "from tqdm.auto import tqdm\n",
        "\n",
        "\n",
        "# 4. 설정\n",
        "# 경고가 나와서, 출력이 많아지지 않기 위해 ignore를 설정해주었습니다.\n",
        "import warnings\n",
        "warnings.filterwarnings('ignore')\n",
        "\n",
        "\n",
        "# 5. stats models\n",
        "# 시계열 모델을 위한 ARIMA를 임포트 해주었습니다.\n",
        "from statsmodels.tsa.arima_model import ARIMA\n",
        "\n",
        "\n",
        "# 6. 구글 드라이브\n",
        "# colab이 구글 드라이와 연결되어 있기 때문에 임포트해주었습니다.\n",
        "from google.colab import drive\n"
      ],
      "execution_count": null,
      "outputs": []
    },
    {
      "cell_type": "code",
      "metadata": {
        "id": "JkjS3rHwDl87"
      },
      "source": [
        ""
      ],
      "execution_count": null,
      "outputs": []
    },
    {
      "cell_type": "code",
      "metadata": {
        "id": "fu-d2JTsfqCQ"
      },
      "source": [
        ""
      ],
      "execution_count": null,
      "outputs": []
    },
    {
      "cell_type": "markdown",
      "metadata": {
        "id": "dvpFpLaW9rSk"
      },
      "source": [
        "# 3. 상수 🔐"
      ]
    },
    {
      "cell_type": "code",
      "metadata": {
        "id": "SDBQ4sO7gWdK"
      },
      "source": [
        "# 1) 구글 드라이브 경로, 2) 데이터 경로, 3) 전체 경로를 상수로 정해주고 사용했습니다.\n",
        "GOOGLE_DRIVE_PATH = \"/content/drive\"\n",
        "DATA_PATH = \"/content/drive/MyDrive/dacon/bit-traider/data\"\n",
        "SUBMIT_PATH = \"/content/drive/MyDrive/dacon/bit-traider/submit\"\n"
      ],
      "execution_count": null,
      "outputs": []
    },
    {
      "cell_type": "code",
      "metadata": {
        "id": "-exYMi709psM"
      },
      "source": [
        ""
      ],
      "execution_count": null,
      "outputs": []
    },
    {
      "cell_type": "code",
      "metadata": {
        "id": "QDVJJwhw9pmo"
      },
      "source": [
        ""
      ],
      "execution_count": null,
      "outputs": []
    },
    {
      "cell_type": "markdown",
      "metadata": {
        "id": "5fZ_viG09vfU"
      },
      "source": [
        "# 4. 데이터 로드 📥"
      ]
    },
    {
      "cell_type": "code",
      "metadata": {
        "id": "IvCf0FPN9fTo",
        "colab": {
          "base_uri": "https://localhost:8080/"
        },
        "outputId": "8ebb3607-305f-4d1a-f87d-a2d2fa7ff7c4"
      },
      "source": [
        " drive.mount(GOOGLE_DRIVE_PATH)\n"
      ],
      "execution_count": null,
      "outputs": [
        {
          "output_type": "stream",
          "text": [
            "Mounted at /content/drive\n"
          ],
          "name": "stdout"
        }
      ]
    },
    {
      "cell_type": "code",
      "metadata": {
        "id": "OjqQWauj8bJy"
      },
      "source": [
        "train_x = pd.read_csv(DATA_PATH  + \"/train_x_df.csv\")\n",
        "train_y = pd.read_csv(DATA_PATH  + \"/train_y_df.csv\")\n",
        "test_x = pd.read_csv(DATA_PATH  + \"/test_x_df.csv\")\n"
      ],
      "execution_count": null,
      "outputs": []
    },
    {
      "cell_type": "code",
      "metadata": {
        "id": "Q-bftHM79U0T"
      },
      "source": [
        "# train_x, train_y 를 sample_id 기준 하나로 합쳐서, train_z를 만들어줍니다.\n",
        "# 사실 train x, y를 합치지 않아도 괜찮습니다만, 연속되는 변수 vwap, rsi, 등등을 만들기 위해 x, y를 합치고, 변수를 생성하고, x, y를 다시 분리하는 작업을 진행했습니다.\n",
        "train_x[\"is_x\"] = 1\n",
        "train_y[\"is_x\"] = 0\n",
        "train_x_y = [train_x, train_y]\n",
        "train_list = [x.set_index('sample_id') for x in train_x_y]\n",
        "\n",
        "train_z = pd.concat(train_list, axis=0).rename_axis('sample_id').reset_index()\n"
      ],
      "execution_count": null,
      "outputs": []
    },
    {
      "cell_type": "code",
      "metadata": {
        "id": "0LML-LvIDxqf"
      },
      "source": [
        ""
      ],
      "execution_count": null,
      "outputs": []
    },
    {
      "cell_type": "code",
      "metadata": {
        "id": "kKepDIN-9U5u"
      },
      "source": [
        ""
      ],
      "execution_count": null,
      "outputs": []
    },
    {
      "cell_type": "markdown",
      "metadata": {
        "id": "MopTSFge991A"
      },
      "source": [
        "# 5. 함수 작성 ✍️"
      ]
    },
    {
      "cell_type": "markdown",
      "metadata": {
        "id": "x5jtTMd5D3fc"
      },
      "source": [
        "### 1) VWAP\n",
        "[거래량 가중 평균가(VWAP, Volume Weighted Average Price)](https://academy.binance.com/ko/articles/volume-weighted-average-price-vwap-explained)는 거래량에 가중치가 부여되어 특정 기간 동안의 평균 가격을 의미합니다.\n",
        "\n",
        "<br>\n",
        "\n",
        "트레이딩에서 VWAP은 상승세와 하락세를 판단하는 지표로 사용됩니다. **가격(open)이 vwap보다 크면 상승세**로 판단하고, 만약 **가격이 VWAP 보다 작으면 하락세**로 판단합니다.\n",
        "\n",
        "![](https://raw.githubusercontent.com/skyepodium/bit-traider-image/master/image/vwap_formula.png)\n",
        "\n",
        "<br>\n",
        "\n",
        "저는 여기에 생각을 더해서... \n",
        "\n",
        "<br>\n",
        "\n",
        "만약, 가격에서 VWAP을 뺀 값인 diff (open - VWAP)을 학습에 사용한다면, 2가지 이점이 있다고 생각했습니다.\n",
        "\n",
        "<br>\n",
        "\n",
        "첫 번째로 안전한 지점을 찾을 수 있는 것입니다. open - vwap이 양수이면, 상승 구간에 있기 때문에 안전한 지점을 찾을 수 있고, 적어도 손해는 안 볼 확률이 높아진다고 생각했습니다. 제일 가격이 높은 지점을 찾는 것이 아닌 안전한 지점을 찾는 문제로 바꾸었습니다.\n",
        "\n",
        "<br>\n",
        "\n",
        "두 번째로는 2개의 변수를 한 번에 사용할 수 있다는 점입니다. 개인적으로 여러 강의와 코드 샘플들을 보았지만, 변수가 저렇게 많은데 단 1가지 feature만 학습에 사용하는 것이 아쉬웠습니다. 그렇기 때문에  적어도 2개 이상의 변수를 함께 사용하면 조금 더 좋은 예측을 할것이라 생각했습니다."
      ]
    },
    {
      "cell_type": "code",
      "metadata": {
        "id": "AxGpKmAw8azU"
      },
      "source": [
        "# vwap과, open에서 vwap을 뺀 값인 diff를 계산합니다.\n",
        "def make_vwap_and_diff(df):\n",
        "\n",
        "    # 1) VAWP 계산\n",
        "\n",
        "    # 일반적인 VWAP 공식에서 volume을 그대로 사용하지만, 여러번의 시도를 통해 tb_base_av 와 volume을 더했을 때 가장 좋은 volume이 나온다고 판단하영 사용하였습니다.\n",
        "    df[\"volume_tb_base_av\"] = df[\"tb_base_av\"] + df[\"volume\"]\n",
        "\n",
        "    # open하나만을 사용하기 보다는 open(시가), high(고가), low(저가) 3개의 평균을 price로 사용하였습니다.\n",
        "    df['volume_price'] = ((df['open'] + df['high'] + df['low']) / 3) * df['volume_tb_base_av']\n",
        "\n",
        "    # price와 volume의 곱의 합을 구해줍니다.\n",
        "    df['volume_price_sum'] = df.groupby(['sample_id'])['volume_price'].apply(lambda x: x.cumsum())\n",
        "\n",
        "    # volume의 합을 구해줍니다.\n",
        "    df['volume_sum'] = df.groupby(['sample_id'])['volume_tb_base_av'].apply(lambda x: x.cumsum())\n",
        "\n",
        "    # 2 변수의 나눗셈을 통해 vwap을 계산해줍니다.\n",
        "    df['vwap'] = df['volume_price_sum'] / df['volume_sum']\n",
        "\n",
        "\n",
        "    # 2) diff 계산\n",
        "    # 매도수익이 open을 통해 이루어진다고 알려져있기 때문에 open에서 vwap을 뺀 값을 diff로 사용했습니다.\n",
        "    df[\"diff\"] = df[\"open\"] - df[\"vwap\"]\n",
        "\n",
        "\n",
        "    return df\n",
        "    "
      ],
      "execution_count": null,
      "outputs": []
    },
    {
      "cell_type": "code",
      "metadata": {
        "id": "xMEBaXFJgWyK"
      },
      "source": [
        "# 데이터 프레임에서 sample_id 에 따른 open을 반환하는 함수입니다.\n",
        "def get_open(df,sample_id):\n",
        "    \n",
        "    return df[df[\"sample_id\"] == sample_id]['open'].values\n",
        "    "
      ],
      "execution_count": null,
      "outputs": []
    },
    {
      "cell_type": "code",
      "metadata": {
        "id": "xd6ja-VS8tCz"
      },
      "source": [
        "# 데이터 프레임에서 sample_id 에 따른 VWAP을 반환하는 함수입니다.\n",
        "def get_vwap(df,sample_id):\n",
        "    \n",
        "    return df[df[\"sample_id\"] == sample_id]['vwap'].values\n",
        "    "
      ],
      "execution_count": null,
      "outputs": []
    },
    {
      "cell_type": "code",
      "metadata": {
        "id": "31nwm13M8s6q"
      },
      "source": [
        "# 데이터 프레임에서 sample_id 에 따른 diff 반환하는 함수입니다.\n",
        "def get_diff(df,sample_id):\n",
        "    \n",
        "    return df[df[\"sample_id\"] == sample_id]['diff'].values\n",
        "    "
      ],
      "execution_count": null,
      "outputs": []
    },
    {
      "cell_type": "code",
      "metadata": {
        "id": "FL3ryNj8AfgZ"
      },
      "source": [
        "# 데이터 프레임에서 sample_id 에 따른 rsi 반환하는 함수입니다.\n",
        "def get_rsi(df,sample_id):\n",
        "    \n",
        "    return df[df[\"sample_id\"] == sample_id]['rsi'].values\n",
        "    "
      ],
      "execution_count": null,
      "outputs": []
    },
    {
      "cell_type": "code",
      "metadata": {
        "id": "XSci7Oh1-Tgw"
      },
      "source": [
        "# 데이터 프레임에서 sample_id 에 따른 col_name 값을 반환하는 함수입니다.\n",
        "def get_series(df,sample_id, col_name):\n",
        "    \n",
        "    return df[df[\"sample_id\"] == sample_id][col_name].values\n",
        "    "
      ],
      "execution_count": null,
      "outputs": []
    },
    {
      "cell_type": "markdown",
      "metadata": {
        "id": "F7GO2QeBsyz5"
      },
      "source": [
        "### 2) RSI\n",
        "상대강도지수(relative strength index) 는 가격의 상승압력과 하락압력 간의 상대적인 강도를 나타냅니다.\n",
        "\n",
        "<br>\n",
        "\n",
        "트레이딩에서 사용되며, RSI 값이 30보다 작으면 초과매도로 판단하고, RSI 값이, 70 보다 크면 초과매수 상태로 판단합니다.\n",
        "\n",
        "<br>\n",
        "\n",
        "![](https://raw.githubusercontent.com/skyepodium/bit-traider-image/master/image/rsi_formula.png)\n",
        "\n",
        "<br>\n",
        "\n",
        "RSI는 최고점과, 최하점을 찾기 쉽다는 장점이 있습니다. 다만, 일명 박스권으로 천정과 바닥이 제대로 형성되지 않은 시장(RSI가 50근처 유지)에서는 유용하지 못합니다.\n",
        "\n",
        "코인 데이터의 RSI 그래프를 그려보면 RSI 0 ~ 100 사이를 급변동 합니다.\n",
        "\n",
        "<br>\n",
        "저는 조금 더 안정적으로 투자하기 위해 65 초과인 상태를 초과매수국면으로 판단하고, 해당 시점 이후 50분동안은 투자하지 않도록 정해주었습니다.\n",
        "\n",
        "\n"
      ]
    },
    {
      "cell_type": "code",
      "metadata": {
        "id": "oafKUnwMx0Va"
      },
      "source": [
        "# RSI를 만들어줍니다.\n",
        "# 상승분, 하락분의 평균은 일반적으로 14일을 기준으로 생성합니다.\n",
        "def make_rsi(df, period=14):\n",
        "\n",
        "    # 전일 대비 상승분을 계산해줍니다. - 상승분이 0보다 크면 상승분을 넣고, 0보다 작거나 같으면 0을 넣어줍니다.\n",
        "    df[\"U\"] = np.where(df.groupby([\"sample_id\"])[\"open\"].diff(1) > 0, df.groupby([\"sample_id\"])[\"open\"].diff(1), 0)\n",
        "\n",
        "    # 전일 대비 하락분을 계산해줍니다. - 하락분이 0보다 작으면 하락분 * -1을 넣고, 0보다 크거나 같으면 0을 넣어줍니다.\n",
        "    df[\"D\"] = np.where(df.groupby([\"sample_id\"])[\"open\"].diff(1) < 0, df.groupby([\"sample_id\"])[\"open\"].diff(1) *(-1), 0)\n",
        "\n",
        "\n",
        "    # 전일 대비 상승분의 평균을 계산해줍니다.\n",
        "    ud_df = pd.DataFrame()\n",
        "    ud_df[\"sample_id\"] = df[\"sample_id\"]\n",
        "    ud_df[\"U\"] = df[\"U\"]\n",
        "    ud_df[\"D\"] = df[\"D\"]\n",
        "\n",
        "    # 상승분의 14일 평균을 구해줍니다.\n",
        "    df[\"AU\"] = ud_df.groupby([\"sample_id\"])[\"U\"].rolling( window=period, min_periods=period ).mean().reset_index()[\"U\"]\n",
        "    # 하락분의 14일 평균을 구해줍니다.\n",
        "    df[\"AD\"] = ud_df.groupby([\"sample_id\"])[\"D\"].rolling( window=period, min_periods=period ).mean().reset_index()[\"D\"]\n",
        "\n",
        "\n",
        "    # AU / (AU + AD) 의 백분율을 RSI 로 계산해줍니다.\n",
        "    RSI = df[\"AU\"] / (df[\"AU\"] + df[\"AD\"]) * 100\n",
        "    \n",
        "    df[\"rsi\"] = RSI\n",
        "    \n",
        "    return df\n",
        "    "
      ],
      "execution_count": null,
      "outputs": []
    },
    {
      "cell_type": "code",
      "metadata": {
        "id": "ubeZfdHFAsE9"
      },
      "source": [
        ""
      ],
      "execution_count": null,
      "outputs": []
    },
    {
      "cell_type": "markdown",
      "metadata": {
        "id": "kitdXjkv-hcu"
      },
      "source": [
        "# 6. 전처리 🪄"
      ]
    },
    {
      "cell_type": "markdown",
      "metadata": {
        "id": "erCTUtmgE-cA"
      },
      "source": [
        "전처리 단계에서는 5번에서 작성한 함수를 train, test 데이터에 적용하여 피쳐 생성을 진행합니다."
      ]
    },
    {
      "cell_type": "code",
      "metadata": {
        "id": "fgNPNg_OgW0Y"
      },
      "source": [
        "# 1. train, test의 sample_id 목록을 저장합니다.\n",
        "TRAIN_SAMPLE_ID_LIST = train_x[\"sample_id\"].unique().tolist()\n",
        "TEST_SAMPLE_ID_LIST = test_x[\"sample_id\"].unique().tolist()\n"
      ],
      "execution_count": null,
      "outputs": []
    },
    {
      "cell_type": "code",
      "metadata": {
        "id": "0Lc06DflgW2i"
      },
      "source": [
        ""
      ],
      "execution_count": null,
      "outputs": []
    },
    {
      "cell_type": "code",
      "metadata": {
        "id": "R5HoTz1d-l3U"
      },
      "source": [
        "# 2. VWAP, diff 를 만들어줍니다.\n",
        "test_x = make_vwap_and_diff(test_x)\n",
        "train_z = make_vwap_and_diff(train_z)\n"
      ],
      "execution_count": null,
      "outputs": []
    },
    {
      "cell_type": "code",
      "metadata": {
        "id": "mgFwKdsqAkq6"
      },
      "source": [
        ""
      ],
      "execution_count": null,
      "outputs": []
    },
    {
      "cell_type": "code",
      "metadata": {
        "id": "SyXDCq7lOh_x"
      },
      "source": [
        "# 3. rsi 를 만들어줍니다.\n",
        "test_x = make_rsi(test_x, 14)\n",
        "train_z = make_rsi(train_z, 14)\n"
      ],
      "execution_count": null,
      "outputs": []
    },
    {
      "cell_type": "code",
      "metadata": {
        "id": "-JlldEJIOgol"
      },
      "source": [
        ""
      ],
      "execution_count": null,
      "outputs": []
    },
    {
      "cell_type": "code",
      "metadata": {
        "id": "ritTVE871Z1-"
      },
      "source": [
        "# 4. train x와 y를 분리합니다.\n",
        "train_x = train_z[train_z[\"is_x\"] == 1]\n",
        "train_y = train_z[train_z[\"is_x\"] == 0]\n",
        "\n",
        "split_drop_cols = [\"is_x\"]\n",
        "\n",
        "train_x = train_x.drop(columns=split_drop_cols, axis=1)\n",
        "train_y = train_y.drop(columns=split_drop_cols, axis=1)\n"
      ],
      "execution_count": null,
      "outputs": []
    },
    {
      "cell_type": "code",
      "metadata": {
        "id": "mOdEVOsn-Dte"
      },
      "source": [
        ""
      ],
      "execution_count": null,
      "outputs": []
    },
    {
      "cell_type": "code",
      "metadata": {
        "id": "g8-huEPhAuis"
      },
      "source": [
        ""
      ],
      "execution_count": null,
      "outputs": []
    },
    {
      "cell_type": "markdown",
      "metadata": {
        "id": "jmYP7LsGBGAm"
      },
      "source": [
        "# 7. 모델 학습 🤑"
      ]
    },
    {
      "cell_type": "markdown",
      "metadata": {
        "id": "XqR3MCIBSux4"
      },
      "source": [
        "### 1) 모델\n",
        "모델은 diff (open - vwap)을 ARIMA를 통해 학습하여 생성했습니다. \n",
        "\n",
        "<br>\n",
        "\n",
        "### 2) 제약조건\n",
        "vwap, rsi의 마지막 값을 제약조건의 기준으로 사용했습니다.\n",
        "vwap이 1보다 크면 open보다 vwap이 크다는 의미로 하향세에 접어들었다고 판단 투자하지 않았습니다.\n",
        "(x의 open 의 마지막 값은 1입니다.)\n",
        "\n",
        "<br>\n",
        "\n",
        "rsi의 값이 65보다 크면 초과 매수 상태라고 판단하여 투자하지 않았습니다. 기본적으로 70 초과로 판단하는데 임의로 바꿀수 있는 값으로 조금 낮춰서 65로 시도했을때가 제일 좋아서 사용했습니다.\n",
        "\n",
        "<br>\n",
        "\n",
        "### 3) ARIMA와 p d q\n",
        "\n",
        "개인적으로 ARIMA 모델의 order(p, d, q)에 투자를 많이 했었습니다.\n",
        "\n",
        "ARIMA 모델의 AIC (아카이케 정보 기준) 가 가장 나오는 order를 brute force로 찾아보았지만, \n",
        "\n",
        "2시간 30분 ~ 3시간이 걸림에도 불구하고, 점수가 오히려 낮아져서, 여러번의 시도로 4, 0, 1 이 제일 좋다고 판단했습니다.\n",
        "\n",
        "pac, acf 분석을 통해 AR 2 모델이라고 판단했습니다. 분석에는 다음 영상을 참고했습니다. (https://www.youtube.com/watch?v=-vSzKfqcTDg&t=360s)\n"
      ]
    },
    {
      "cell_type": "code",
      "metadata": {
        "id": "aw_-lZ9jgXQ4",
        "colab": {
          "base_uri": "https://localhost:8080/",
          "height": 332,
          "referenced_widgets": [
            "1a10397c83884f3a93327a0999d3971b",
            "bd62633546a04b6db8294912db23786d",
            "1828a933b5054cbfa02e92f0e5db4a40",
            "64c0dfca1e3848ed8524d086007babac",
            "ae52095dd83b414f94653025388b51aa",
            "f96d5e2b03d242b4a3041fde4f661cfb",
            "919d5e88ac0c43d7bf7a7e79e3995efc",
            "70b84e0a5f50429bb6911360b1dbcd8f"
          ]
        },
        "outputId": "118cd7eb-87c9-4ffe-b1a9-a62888c556a0"
      },
      "source": [
        "result = []\n",
        "\n",
        "for sample_id in tqdm(TEST_SAMPLE_ID_LIST):\n",
        "\n",
        "    # 1. 데이터 로드\n",
        "    # 1) diff - 학습에 사용\n",
        "    diff_x = get_diff(test_x, sample_id)\n",
        "\n",
        "    # 2) vwap - 보조 지표로 사용\n",
        "    vwap_series = get_vwap(test_x, sample_id)\n",
        "\n",
        "    # 3) rsi - 보조 지표로 사용\n",
        "    rsi_series = get_rsi(test_x, sample_id)\n",
        "\n",
        "\n",
        "\n",
        "    # 2. ARIMA\n",
        "    # 1) 모델 정의\n",
        "    ARIMA_MODEL = {}\n",
        "    ARIMA_MODEL_FIT = {}\n",
        "\n",
        "    # 2) AR 모델 적용\n",
        "    try:\n",
        "      ARIMA_MODEL = ARIMA(diff_x, order = (4,0,1))\n",
        "      ARIMA_MODEL_FIT = ARIMA_MODEL.fit(trend = 'nc', full_output = True, disp = True)\n",
        "\n",
        "    # 3) 수렴하지 않을 경우 p d q 를 1, 1, 0으로 사용\n",
        "    except:\n",
        "      ARIMA_MODEL = ARIMA(diff_x, order = (1,1,0))\n",
        "      ARIMA_MODEL_FIT = ARIMA_MODEL.fit(trend = 'nc', full_output = True, disp = True)\n",
        "\n",
        "    # 4) ARIMA 예측\n",
        "    ARIMA_FORECAST  = ARIMA_MODEL_FIT.predict(1,120, typ='levels')\n",
        "\n",
        "\n",
        "\n",
        "    # 3. 데이처 처리\n",
        "    # 1) 최대 부분인 인덱스를 찾는데 해당 시점에 매도를 진행합니다.\n",
        "    sell_time = np.argmax(ARIMA_FORECAST)\n",
        "\n",
        "    # 2) 최대값을 찾습니다.\n",
        "    max_val = np.max(ARIMA_FORECAST)\n",
        "    \n",
        "    # 3) vwap의 마지막 값을 가져옵니다.\n",
        "    vwap_last_val = vwap_series[1379]\n",
        "\n",
        "    rsi_last_val = rsi_series[1379]\n",
        "\n",
        "\n",
        "\n",
        "    # 4. 투자 전략\n",
        "    buy_quantity = 0\n",
        "\n",
        "    # 1) 최대값이 0 보다 크면 가격이 vwap 보다 크다는 의미로, 투자합니다.\n",
        "    if  max_val > 0:\n",
        "        buy_quantity = 1\n",
        "\n",
        "\n",
        "    # 2) 만약 vwap 마지막 값이, 1보다 크면 가격이 1보다 작다는 의미로 하향세이기 때문에 투자하지 않습니다.\n",
        "    if vwap_last_val > 1 and sell_time < 50:\n",
        "        buy_quantity = 0\n",
        "\n",
        "    # 3) 만약 rsi의 값이 65 보다 크면, 초과매수 상태로 판단하여 투자하지 않습니다.\n",
        "    if rsi_last_val > 65 and sell_time < 50:\n",
        "        buy_quantity = 0\n",
        "\n",
        "\n",
        "\n",
        "    # 5. 결과\n",
        "    result_list = [\n",
        "                   sample_id,\n",
        "                   buy_quantity,\n",
        "                   sell_time\n",
        "                  ]\n",
        "\n",
        "    result.append(result_list)\n",
        "    "
      ],
      "execution_count": null,
      "outputs": [
        {
          "output_type": "display_data",
          "data": {
            "application/vnd.jupyter.widget-view+json": {
              "model_id": "1a10397c83884f3a93327a0999d3971b",
              "version_minor": 0,
              "version_major": 2
            },
            "text/plain": [
              "HBox(children=(FloatProgress(value=0.0, max=535.0), HTML(value='')))"
            ]
          },
          "metadata": {
            "tags": []
          }
        },
        {
          "output_type": "stream",
          "text": [
            "/usr/local/lib/python3.7/dist-packages/statsmodels/base/model.py:568: ConvergenceWarning: Maximum Likelihood optimization failed to converge. Check mle_retvals\n",
            "  ConvergenceWarning)\n",
            "/usr/local/lib/python3.7/dist-packages/statsmodels/base/model.py:548: HessianInversionWarning: Inverting hessian failed, no bse or cov_params available\n",
            "  'available', HessianInversionWarning)\n",
            "/usr/local/lib/python3.7/dist-packages/statsmodels/base/model.py:568: ConvergenceWarning: Maximum Likelihood optimization failed to converge. Check mle_retvals\n",
            "  ConvergenceWarning)\n",
            "/usr/local/lib/python3.7/dist-packages/statsmodels/base/model.py:568: ConvergenceWarning: Maximum Likelihood optimization failed to converge. Check mle_retvals\n",
            "  ConvergenceWarning)\n",
            "/usr/local/lib/python3.7/dist-packages/statsmodels/base/model.py:548: HessianInversionWarning: Inverting hessian failed, no bse or cov_params available\n",
            "  'available', HessianInversionWarning)\n",
            "/usr/local/lib/python3.7/dist-packages/statsmodels/base/model.py:568: ConvergenceWarning: Maximum Likelihood optimization failed to converge. Check mle_retvals\n",
            "  ConvergenceWarning)\n",
            "/usr/local/lib/python3.7/dist-packages/statsmodels/base/model.py:568: ConvergenceWarning: Maximum Likelihood optimization failed to converge. Check mle_retvals\n",
            "  ConvergenceWarning)\n",
            "/usr/local/lib/python3.7/dist-packages/statsmodels/base/model.py:568: ConvergenceWarning: Maximum Likelihood optimization failed to converge. Check mle_retvals\n",
            "  ConvergenceWarning)\n"
          ],
          "name": "stderr"
        },
        {
          "output_type": "stream",
          "text": [
            "\n"
          ],
          "name": "stdout"
        }
      ]
    },
    {
      "cell_type": "code",
      "metadata": {
        "id": "TrdOWA3RFhSc"
      },
      "source": [
        ""
      ],
      "execution_count": null,
      "outputs": []
    },
    {
      "cell_type": "code",
      "metadata": {
        "id": "3HEv-tL5huUe"
      },
      "source": [
        ""
      ],
      "execution_count": null,
      "outputs": []
    },
    {
      "cell_type": "markdown",
      "metadata": {
        "id": "SDl1UZPeC9F8"
      },
      "source": [
        "# 8. 제출 🎉"
      ]
    },
    {
      "cell_type": "code",
      "metadata": {
        "id": "Fh-lmXxthuSL"
      },
      "source": [
        "# 1. 학습 결과를 데이터 프레임으로 만듭니다.\n",
        "\n",
        "submit_columns = [\n",
        "                  \"sample_id\", \n",
        "                  \"buy_quantity\", \n",
        "                  \"sell_time\"\n",
        "                  ]\n",
        "\n",
        "\n",
        "submit = pd.DataFrame(data=result, columns=submit_columns)\n"
      ],
      "execution_count": null,
      "outputs": []
    },
    {
      "cell_type": "code",
      "metadata": {
        "id": "pUquU-7oC8FJ"
      },
      "source": [
        ""
      ],
      "execution_count": null,
      "outputs": []
    },
    {
      "cell_type": "code",
      "metadata": {
        "id": "ws7koaEZCuBt",
        "colab": {
          "base_uri": "https://localhost:8080/",
          "height": 347
        },
        "outputId": "5f9c499b-c724-4b4c-a2e2-e0c01c3e595e"
      },
      "source": [
        "# 2. 결과 데이터 프레임 확인\n",
        "\n",
        "submit.head(10)\n"
      ],
      "execution_count": null,
      "outputs": [
        {
          "output_type": "execute_result",
          "data": {
            "text/html": [
              "<div>\n",
              "<style scoped>\n",
              "    .dataframe tbody tr th:only-of-type {\n",
              "        vertical-align: middle;\n",
              "    }\n",
              "\n",
              "    .dataframe tbody tr th {\n",
              "        vertical-align: top;\n",
              "    }\n",
              "\n",
              "    .dataframe thead th {\n",
              "        text-align: right;\n",
              "    }\n",
              "</style>\n",
              "<table border=\"1\" class=\"dataframe\">\n",
              "  <thead>\n",
              "    <tr style=\"text-align: right;\">\n",
              "      <th></th>\n",
              "      <th>sample_id</th>\n",
              "      <th>buy_quantity</th>\n",
              "      <th>sell_time</th>\n",
              "    </tr>\n",
              "  </thead>\n",
              "  <tbody>\n",
              "    <tr>\n",
              "      <th>0</th>\n",
              "      <td>7661</td>\n",
              "      <td>0</td>\n",
              "      <td>47</td>\n",
              "    </tr>\n",
              "    <tr>\n",
              "      <th>1</th>\n",
              "      <td>7662</td>\n",
              "      <td>1</td>\n",
              "      <td>62</td>\n",
              "    </tr>\n",
              "    <tr>\n",
              "      <th>2</th>\n",
              "      <td>7663</td>\n",
              "      <td>0</td>\n",
              "      <td>11</td>\n",
              "    </tr>\n",
              "    <tr>\n",
              "      <th>3</th>\n",
              "      <td>7664</td>\n",
              "      <td>0</td>\n",
              "      <td>48</td>\n",
              "    </tr>\n",
              "    <tr>\n",
              "      <th>4</th>\n",
              "      <td>7665</td>\n",
              "      <td>1</td>\n",
              "      <td>46</td>\n",
              "    </tr>\n",
              "    <tr>\n",
              "      <th>5</th>\n",
              "      <td>7666</td>\n",
              "      <td>1</td>\n",
              "      <td>70</td>\n",
              "    </tr>\n",
              "    <tr>\n",
              "      <th>6</th>\n",
              "      <td>7667</td>\n",
              "      <td>1</td>\n",
              "      <td>119</td>\n",
              "    </tr>\n",
              "    <tr>\n",
              "      <th>7</th>\n",
              "      <td>7668</td>\n",
              "      <td>1</td>\n",
              "      <td>82</td>\n",
              "    </tr>\n",
              "    <tr>\n",
              "      <th>8</th>\n",
              "      <td>7669</td>\n",
              "      <td>1</td>\n",
              "      <td>109</td>\n",
              "    </tr>\n",
              "    <tr>\n",
              "      <th>9</th>\n",
              "      <td>7670</td>\n",
              "      <td>1</td>\n",
              "      <td>66</td>\n",
              "    </tr>\n",
              "  </tbody>\n",
              "</table>\n",
              "</div>"
            ],
            "text/plain": [
              "   sample_id  buy_quantity  sell_time\n",
              "0       7661             0         47\n",
              "1       7662             1         62\n",
              "2       7663             0         11\n",
              "3       7664             0         48\n",
              "4       7665             1         46\n",
              "5       7666             1         70\n",
              "6       7667             1        119\n",
              "7       7668             1         82\n",
              "8       7669             1        109\n",
              "9       7670             1         66"
            ]
          },
          "metadata": {
            "tags": []
          },
          "execution_count": 20
        }
      ]
    },
    {
      "cell_type": "code",
      "metadata": {
        "id": "II8kw3x8Ct5U",
        "colab": {
          "base_uri": "https://localhost:8080/"
        },
        "outputId": "b35226ab-5663-46e8-f1f6-098a6d9b5ce2"
      },
      "source": [
        "# 3. 투자 개수 확인\n",
        "\n",
        "submit[submit[\"buy_quantity\"] == 1].shape[0]\n"
      ],
      "execution_count": null,
      "outputs": [
        {
          "output_type": "execute_result",
          "data": {
            "text/plain": [
              "420"
            ]
          },
          "metadata": {
            "tags": []
          },
          "execution_count": 21
        }
      ]
    },
    {
      "cell_type": "code",
      "metadata": {
        "id": "jxY8EpMa94w1"
      },
      "source": [
        ""
      ],
      "execution_count": null,
      "outputs": []
    },
    {
      "cell_type": "code",
      "metadata": {
        "id": "eekMyayO94t2",
        "colab": {
          "base_uri": "https://localhost:8080/"
        },
        "outputId": "e223b785-aa1e-4f37-91e2-4d40daa65038"
      },
      "source": [
        "# 4. sell_time 50미만에서 구매하는 개수 확인\n",
        "cond1 = (submit[\"buy_quantity\"] == 1)\n",
        "cond2 = (submit[\"sell_time\"] < 50)\n",
        "\n",
        "submit[cond1 & cond2].shape[0]\n"
      ],
      "execution_count": null,
      "outputs": [
        {
          "output_type": "execute_result",
          "data": {
            "text/plain": [
              "84"
            ]
          },
          "metadata": {
            "tags": []
          },
          "execution_count": 22
        }
      ]
    },
    {
      "cell_type": "code",
      "metadata": {
        "id": "nhmD8EguDIK2"
      },
      "source": [
        ""
      ],
      "execution_count": null,
      "outputs": []
    },
    {
      "cell_type": "code",
      "metadata": {
        "id": "Mp7wT98yDINv"
      },
      "source": [
        "# 5. 제출"
      ],
      "execution_count": null,
      "outputs": []
    },
    {
      "cell_type": "code",
      "metadata": {
        "id": "X7o-0iQkvd_r"
      },
      "source": [
        ""
      ],
      "execution_count": null,
      "outputs": []
    },
    {
      "cell_type": "code",
      "metadata": {
        "id": "rw78jgTgDe0Z"
      },
      "source": [
        "# 파일의 이름을 지정해줍니다.\n",
        "FILE_NAME = \"/0603_ARIMA_DIFF_VWAP_RSI_65_UNDER_50_SUBMIT.csv\"\n"
      ],
      "execution_count": null,
      "outputs": []
    },
    {
      "cell_type": "code",
      "metadata": {
        "id": "W6gAk-mQDqpU"
      },
      "source": [
        ""
      ],
      "execution_count": null,
      "outputs": []
    },
    {
      "cell_type": "code",
      "metadata": {
        "id": "h52SZA91huP9"
      },
      "source": [
        "# 제출경로에 파일을 생성해줍니다.\n",
        "RESULT_PATH = SUBMIT_PATH + FILE_NAME\n",
        "\n",
        "submit.to_csv(RESULT_PATH, index=False)\n"
      ],
      "execution_count": null,
      "outputs": []
    },
    {
      "cell_type": "code",
      "metadata": {
        "id": "9Au3--86huLZ"
      },
      "source": [
        ""
      ],
      "execution_count": null,
      "outputs": []
    },
    {
      "cell_type": "code",
      "metadata": {
        "id": "JSjgb0-79OH4"
      },
      "source": [
        ""
      ],
      "execution_count": null,
      "outputs": []
    },
    {
      "cell_type": "markdown",
      "metadata": {
        "id": "7fnfibaBL3Fg"
      },
      "source": [
        "# 9. 안정적 모델인지 어떻게 확인? 🤔\n",
        "시즌 1을 경험하고, 최대한 안정적인 모델을 생성하기 위해 노력했습니다. \n",
        "\n",
        "다만, 내가 안정적이라고 생각해도, 객관적인 지표가 없다보니 얼마나 균형잡혀있는지 확인하기가 어려웠습니다.\n",
        "\n",
        "이를 위해 public score를 다음과 같이 활용했습니다.\n",
        "\n",
        "<br>\n",
        "\n",
        "예를 들어, \n",
        "- open에 vwap을 섞어 투자개수가 줄었음에도 점수가 올라가는 현상\n",
        "- vwap, rsi등 보조지표를 통해 sell_time 10, 20.. 50 미만은 투자하지 않기로 결정했음에도 점점 점수가 올라가는 현상\n",
        "- rsi 초과매수로 상태를 70 초과가 아닌, 65 초과로, 더 안정적으로 결정해도 점수가 상승하는 현상\n",
        "<br>\n",
        "\n",
        "이렇게, 제약사항을 통해 보수적으로 투자했음에도 불구하고, 점수가 올라가는 경우에 집중하여, 해당 피쳐가 안정적으로 작용함을 판단했습니다.\n"
      ]
    },
    {
      "cell_type": "code",
      "metadata": {
        "id": "O4AZQBEI9OKN"
      },
      "source": [
        ""
      ],
      "execution_count": null,
      "outputs": []
    },
    {
      "cell_type": "code",
      "metadata": {
        "id": "j0I9g7a-NwrB"
      },
      "source": [
        ""
      ],
      "execution_count": null,
      "outputs": []
    },
    {
      "cell_type": "markdown",
      "metadata": {
        "id": "W7ki-HLpNxG_"
      },
      "source": [
        "# 10. 여러 아이디어 🥴\n",
        "65번이라는 조금 많은 제출을 통해 여러 시도를 진행했습니다. 저의 개인적인 결과는 좋지 않았습니다만, 혹시나 이후 대회에서 다른 분들에게 조금이라도 도움이 될 수 있을까 해서 남기게 되었습니다.\n",
        "\n",
        "<br>\n",
        "\n",
        "### 1) RANDOM BOX 분류 모델\n",
        "시계열 대회이지만, classification으로 생각해보았습니다.\n",
        "\n",
        "결국에 제가 선택하는것은 120개중 1개이기 때문에 120개의 상자 중 1개를 선택했을때 그 값이 1보다 클 확률을 제가 얻을 수 있는 기대값이라고 생각했습니다. \n",
        "\n",
        "개인적으로 가장 창의적이라고 생각했지만, 잘 안되었습니다. 더 지니어스의 콩픈패스에 영감을 받았습니다.\n",
        "\n",
        "\n",
        "<br>\n",
        "\n",
        "### 2) 혼합 데이터\n",
        "open에 vwap을 섞은것에 더하여, RSI, 이동평균선등을 모두 섞어 보았습니다. 생각보다 점수가 정말 좋았지만, vwap 한개를 섞은것보다는 아쉽다고 생각하여 사용하지는 않았습니다.\n",
        "\n",
        "<br>\n",
        "\n"
      ]
    },
    {
      "cell_type": "code",
      "metadata": {
        "id": "2wL5dWUpN4S2"
      },
      "source": [
        ""
      ],
      "execution_count": null,
      "outputs": []
    },
    {
      "cell_type": "code",
      "metadata": {
        "id": "3TTZd4EaOTUU"
      },
      "source": [
        ""
      ],
      "execution_count": null,
      "outputs": []
    },
    {
      "cell_type": "markdown",
      "metadata": {
        "id": "qPYQVpGuOUL9"
      },
      "source": [
        "# 11. 다른 모델 사용여부 😁\n",
        "ARIMA 이외에도 prophet, neural prophet, LSTM등 다양한 모델을 사용해보았습니다. \n",
        "\n",
        "다만, 더 좋은 결과를 주지 않았다고 판단했습니다.\n",
        "\n",
        "또한, 위 모델들의 결과를 bagging하는 방법을 사용해보았지만, ARIMA 단 하나만을 사용했을때보다 예측 성능이 낮아진다고 판단하여 사용하지 않게 되었습니다.\n",
        "\n"
      ]
    },
    {
      "cell_type": "code",
      "metadata": {
        "id": "ilefCjXXO1Or"
      },
      "source": [
        ""
      ],
      "execution_count": null,
      "outputs": []
    },
    {
      "cell_type": "code",
      "metadata": {
        "id": "KdG6JmHrPnnS"
      },
      "source": [
        ""
      ],
      "execution_count": null,
      "outputs": []
    }
  ]
}